


import numpy as np

from matplotlib import pyplot as plt
plt.style.use('refdoc.mplstyle')
from matplotlib.ticker import EngFormatter

# define formatter for frequency
formatter_Hz = EngFormatter(unit='Hz', sep="")

# define formatter for time
formatter_s = EngFormatter(unit='s', sep="")

# define formatter for resistance
formatter_Ohm = EngFormatter(unit='Ω', sep="")

#define formatter for dBV
formatter_dBV = EngFormatter(unit='dBV', sep="")








min_freq = 0.3
max_freq = 100E6
frequency = np.logspace(np.log10(min_freq), np.log10(max_freq), 30000, base=10)

noise_spec_9V = []
noise_spec_LV = []

corner_freq_9V = 100
corner_freq_LV = 100

for freq in frequency:
    if freq < corner_freq_9V:
        noise_spec_9V.append(-40)
    else:
        noise_spec_9V.append(-60)
    
    if freq < corner_freq_LV:
        noise_spec_LV.append(-30)
    else:
        noise_spec_LV.append(-55)

fig, ax = plt.subplots(1, 1)

ax.plot(frequency, noise_spec_9V, label='±9V Supply')
ax.plot(frequency, noise_spec_LV,label='+3.3V Supply')

ax.set_xscale('log')
ax.xaxis.set_major_formatter(formatter_Hz)

ax.yaxis.set_major_formatter(formatter_dBV)
ax.set_ylim(-100, 0)
ax.set_title("Voltage Noise")
fig.suptitle("Power Supply Output Noise Limit")
ax.legend()
fig.tight_layout()











I_OUT1 = 400E-3
I_OUT2 = -400E-3





R_FT1 = 1.4E6
R_FB1 = 100E3
R_FT2 = 1.15E6
R_FB2 = 71.5E3

V_POS = 12
V_NEG = -12

V_IN = 8.55





C_OUT = 22E-6

D_TEMP = 0.014
D_BIAS = 0.120
D_TOL = 0.200

C_OUT_ESR = 5E-3

C_OUT_EFF = C_OUT * ( 1 - D_TEMP ) * ( 1 - D_BIAS ) * ( 1 - D_TOL )





C_PVIN = 22E-6
C_PVINSYS = 22E-6





C_VREG = 1E-6





C_VREG = 1E-6





fig, ax = plt.subplots(1, 1)

R_SOFT_START = np.linspace(50E3, 268E3, 800)
t_SOFT_START = 38.4E-3 - 1.28E-7 * R_SOFT_START

ax.plot(R_SOFT_START, t_SOFT_START, label='Soft Start Resistor Values')

R_SOFT_START = 100E3
t_SOFT_START = 38.4E-3 - 1.28E-7 * R_SOFT_START

ax.plot(R_SOFT_START, t_SOFT_START, '.', label='Selected Resistance')

ax.yaxis.set_major_formatter(formatter_s)
ax.xaxis.set_major_formatter(formatter_Ohm)
ax.set_title("Timing Resistor Value vs. Soft Start Time")
fig.suptitle("Power Supply Soft Start")
ax.legend()
fig.tight_layout()





V_DF = 450E-3
C_D = 90E-12





f_SW = 1.2E6

DUTY_1 = ( V_POS - V_IN + V_DF ) / (V_POS + V_DF)
I_IN = I_OUT1 / ( 1 - DUTY_1 )
t_ON1 = DUTY_1 / f_SW
L1 = V_IN * t_ON1 * ( 1 - DUTY_1) / ( 0.3 * I_OUT1)
L1_MIN = 1E-6 * V_IN * ( ( 0.27 / (1 - DUTY_1)) - 0.33)

print("L1 =", L1)
print("L1_MIN =", L1_MIN)





DUTY_2 = ( np.abs(V_NEG) + V_DF ) / ( V_IN + np.abs(V_NEG) + V_DF )
I_L2 = I_OUT2 / ( 1 - DUTY_2 )
t_ON2 = DUTY_2 / f_SW
L2 = V_IN * t_ON2 * ( 1 - DUTY_2 ) / ( 0.3 * I_OUT2 )
L2_MIN = 1E-6 * V_IN * ( ( 0.27 / ( 1 - DUTY_2)) - 0.33 )
 
print("L2 =", L2)
print("L2_MIN =", L2_MIN)





R_LOAD1 = V_POS / I_OUT1
f_Z1_RHP = ( R_LOAD1 * ( 1 - DUTY_1 )**2 ) / ( 2*np.pi * L1 )
f_C1 = f_Z1_RHP * 95E-3
V_FB1 = V_POS * R_FB1 / ( R_FB1 + R_FT1 )
G_M1 = 300E-6 # from datasheet
G_CS1 = 6.25 # from datasheet
R_C1 = ( 2*np.pi * f_C1 * C_OUT_EFF * V_POS**2 ) / ( V_FB1 * V_IN * G_M1 * G_CS1 )
C_C1 = 2 / ( np.pi * f_C1 * R_C1 )
C_B1 = C_OUT_ESR * C_OUT / R_C1

print("R_C1 =", R_C1)
print("C_C1 =", C_C1)
print("C_B1 =", C_B1)





R_LOAD2 = np.abs(V_NEG) / I_OUT2
f_Z2_RHP = ( R_LOAD2 * ( 1 - DUTY_2 )**2 ) / ( 2*np.pi * L2 * DUTY_2 )
f_C2 = f_Z2_RHP * 95E-3
V_FB2 = V_NEG * R_FT2 / ( R_FB2 + R_FT2 )
G_M2 = 300E-6 # from datasheet
G_CS2 = 6.25 # from datasheet
R_C2 = ( 2*np.pi * f_C2 * C_OUT_EFF * np.abs(V_NEG) * ( V_IN + ( 2 * np.abs(V_NEG) ) ) ) / ( np.abs(V_FB2) * V_IN * G_M2 * G_CS2 )
C_C2 = 2 / ( np.pi * f_C2 * R_C2 )
C_B2 = C_OUT_ESR * C_OUT / R_C2

print("R_C2 =", R_C2)
print("C_C2 =", C_C2)
print("C_B2 =", C_B2)



